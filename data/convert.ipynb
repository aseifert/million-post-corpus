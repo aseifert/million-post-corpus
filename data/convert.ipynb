{
 "cells": [
  {
   "cell_type": "code",
   "execution_count": null,
   "metadata": {},
   "outputs": [],
   "source": [
    "import pandas as pd"
   ]
  },
  {
   "cell_type": "code",
   "execution_count": null,
   "metadata": {},
   "outputs": [],
   "source": [
    "# download and extract corpus\n",
    "!wget https://github.com/OFAI/million-post-corpus/releases/download/v1.0.0/million_post_corpus.tar.bz2 && \\\n",
    "    tar -xf million_post_corpus.tar.bz2"
   ]
  },
  {
   "cell_type": "code",
   "execution_count": null,
   "metadata": {},
   "outputs": [],
   "source": [
    "# convert sqlite data to csv files\n",
    "!mkdir -p tmp/ && \\\n",
    "    cd tmp && \\\n",
    "    bash ../sqlite2csv.sh ../million_post_corpus/corpus.sqlite3"
   ]
  },
  {
   "cell_type": "code",
   "execution_count": null,
   "metadata": {},
   "outputs": [],
   "source": [
    "# load csv tables into pandas\n",
    "articles = pd.read_csv(\"tmp/Articles.csv\")\n",
    "posts = pd.read_csv(\"tmp/Posts.csv\", dtype={\"ID_Parent_Post\": \"O\"})\n",
    "annotations = pd.read_csv(\"tmp/Annotations_consolidated.csv\")\n",
    "folds = pd.read_csv(\"tmp/CrossValSplit.csv\")\n",
    "\n",
    "# merge tables into one\n",
    "posts_labeled = pd.merge(pd.merge(posts, annotations, how=\"left\"), folds, how=\"left\").dropna(subset=[\"Category\"])\n",
    "posts_labeled.Value = posts_labeled.Value.astype(int)\n",
    "posts_labeled.Fold = posts_labeled.Fold.astype(int)"
   ]
  },
  {
   "cell_type": "code",
   "execution_count": null,
   "metadata": {},
   "outputs": [],
   "source": [
    "# write articles\n",
    "articles.to_csv(\"articles.csv.xz\", index=False, compression=\"xz\")"
   ]
  },
  {
   "cell_type": "code",
   "execution_count": null,
   "metadata": {},
   "outputs": [],
   "source": [
    "# write labeled posts\n",
    "posts_labeled.to_csv(\"posts_labeled.csv.xz\", index=False, compression=\"xz\")"
   ]
  },
  {
   "cell_type": "code",
   "execution_count": null,
   "metadata": {},
   "outputs": [],
   "source": [
    "# write unlabeled posts\n",
    "annotated_ids = set(posts_labeled.ID_Post.unique())\n",
    "posts[~posts.ID_Post.isin(annotated_ids)].to_csv(\"posts_unlabeled.csv.xz\", index=False, compression=\"xz\")"
   ]
  },
  {
   "cell_type": "code",
   "execution_count": null,
   "metadata": {},
   "outputs": [],
   "source": []
  }
 ],
 "metadata": {
  "kernelspec": {
   "display_name": "Python 3",
   "language": "python",
   "name": "python3"
  },
  "language_info": {
   "codemirror_mode": {
    "name": "ipython",
    "version": 3
   },
   "file_extension": ".py",
   "mimetype": "text/x-python",
   "name": "python",
   "nbconvert_exporter": "python",
   "pygments_lexer": "ipython3",
   "version": "3.8.6"
  },
  "toc": {
   "base_numbering": 1,
   "nav_menu": {},
   "number_sections": true,
   "sideBar": true,
   "skip_h1_title": false,
   "title_cell": "Table of Contents",
   "title_sidebar": "Contents",
   "toc_cell": false,
   "toc_position": {},
   "toc_section_display": true,
   "toc_window_display": false
  },
  "varInspector": {
   "cols": {
    "lenName": 16,
    "lenType": 16,
    "lenVar": 40
   },
   "kernels_config": {
    "python": {
     "delete_cmd_postfix": "",
     "delete_cmd_prefix": "del ",
     "library": "var_list.py",
     "varRefreshCmd": "print(var_dic_list())"
    },
    "r": {
     "delete_cmd_postfix": ") ",
     "delete_cmd_prefix": "rm(",
     "library": "var_list.r",
     "varRefreshCmd": "cat(var_dic_list()) "
    }
   },
   "types_to_exclude": [
    "module",
    "function",
    "builtin_function_or_method",
    "instance",
    "_Feature"
   ],
   "window_display": false
  }
 },
 "nbformat": 4,
 "nbformat_minor": 4
}
